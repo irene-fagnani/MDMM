{
 "cells": [
  {
   "cell_type": "code",
   "execution_count": 13,
   "id": "5d923d0a",
   "metadata": {},
   "outputs": [
    {
     "name": "stdout",
     "output_type": "stream",
     "text": [
      "Executing the gaussian_loss function test...\n",
      "Test Passed. Calculated KL value: 0.0\n",
      "KL divergence between identical distributions is correctly close to 0.\n"
     ]
    }
   ],
   "source": [
    "import torch\n",
    "import torch.nn.functional as F\n",
    "import sys\n",
    "import os\n",
    "import GMVAE  \n",
    "\n",
    "# --- Test ---\n",
    "print(\"Executing the gaussian_loss function test...\")\n",
    "\n",
    "# KL(N(0,1) || N(0,1)) should be close to 0\n",
    "# Create identical distributions\n",
    "mu = torch.tensor([0.0])\n",
    "var = torch.tensor([1.0])\n",
    "mu_prior = torch.tensor([0.0])\n",
    "var_prior = torch.tensor([1.0])\n",
    "\n",
    "# Sample from the first distribution\n",
    "# Using the reparameterization trick\n",
    "z = mu + torch.sqrt(var) * torch.randn_like(mu)\n",
    "\n",
    "loss_calculator = GMVAE.LossFunctions()\n",
    "kl_loss_calculated = loss_calculator.gaussian_loss(z, mu, var, mu_prior, var_prior)\n",
    "\n",
    "# Since we are sampling, the value won't be exactly 0, but very close\n",
    "expected_kl_approx = 0.0\n",
    "\n",
    "# Use an assertion with a tolerance (rtol)\n",
    "assert torch.isclose(kl_loss_calculated, torch.tensor(expected_kl_approx), rtol=1e-2), \\\n",
    "    f\"Test Failed! Expected value: {expected_kl_approx}, Obtained value: {kl_loss_calculated.item()}\"\n",
    "\n",
    "print(f\"Test Passed. Calculated KL value: {kl_loss_calculated.item()}\")\n",
    "print(\"KL divergence between identical distributions is correctly close to 0.\")\n"
   ]
  }
 ],
 "metadata": {
  "kernelspec": {
   "display_name": "Python 3",
   "language": "python",
   "name": "python3"
  },
  "language_info": {
   "codemirror_mode": {
    "name": "ipython",
    "version": 3
   },
   "file_extension": ".py",
   "mimetype": "text/x-python",
   "name": "python",
   "nbconvert_exporter": "python",
   "pygments_lexer": "ipython3",
   "version": "3.9.6"
  }
 },
 "nbformat": 4,
 "nbformat_minor": 5
}
